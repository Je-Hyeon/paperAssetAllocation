{
 "cells": [
  {
   "cell_type": "markdown",
   "id": "35e3b321",
   "metadata": {},
   "source": [
    "GCC-Garch Prediction 없이 Estimation"
   ]
  },
  {
   "cell_type": "code",
   "execution_count": 1,
   "id": "33f07f4a",
   "metadata": {},
   "outputs": [],
   "source": [
    "import traceback\n",
    "from joblib import Parallel, delayed\n",
    "import json\n",
    "import os\n",
    "import numpy as np\n",
    "import pandas as pd\n",
    "from sklearn.cluster import KMeans\n",
    "from sklearn.metrics import silhouette_score\n",
    "\n",
    "from mvgarch.ugarch import UGARCH\n",
    "from mvgarch.mgarch import DCCGARCH\n",
    "\n",
    "from tools.portfolio import black_litterman, vectorize_corr"
   ]
  },
  {
   "cell_type": "code",
   "execution_count": null,
   "id": "47541bbb",
   "metadata": {},
   "outputs": [],
   "source": [
    "df = pd.read_pickle(\"data/asset_cc2.pkl\")\n",
    "\n",
    "window_size = 60\n",
    "rtn = np.log(df).diff().dropna() * 100\n",
    "holding_rtn = (np.log(df) - np.log(df).shift(20)).shift(-20).dropna()[\"1997-05\":] * 100\n",
    "holding_cov = rtn.rolling(window=window_size).cov().shift(-120).dropna()\n",
    "rolling_corr_matrix = rtn.rolling(window=window_size).corr().dropna()[\"1997-05\":]\n",
    "rolling_cov_matrix = rtn.rolling(window=window_size).cov().dropna()[\"1997-05\":]\n",
    "\n",
    "days_lst = rtn.loc[\"2007-01-03\":\"2025-04-16\"].index[40:]\n",
    "range_n_clusters = list(range(2, 10))\n",
    "\n",
    "rtn = rtn[\"1997-05\":]\n",
    "\n",
    "out_dir = \"results/res2\"\n",
    "os.makedirs(out_dir, exist_ok=True)"
   ]
  },
  {
   "cell_type": "code",
   "execution_count": 4,
   "id": "951f13b1",
   "metadata": {},
   "outputs": [
    {
     "data": {
      "text/plain": [
       "Index(['brent', 'dxy', 'gold', 'silver', 'snp', 't10'], dtype='object')"
      ]
     },
     "execution_count": 4,
     "metadata": {},
     "output_type": "execute_result"
    }
   ],
   "source": [
    "rtn.columns"
   ]
  },
  {
   "cell_type": "code",
   "execution_count": null,
   "id": "f43197f7",
   "metadata": {},
   "outputs": [],
   "source": [
    "\n",
    "def process_date(today, i):\n",
    "    try:\n",
    "        # 1) GARCH → DCC\n",
    "        hist = rtn.loc[:today]\n",
    "        specs = []\n",
    "        for col in hist.columns:\n",
    "            ug = UGARCH(order=(1,1))\n",
    "            ug.spec(returns=hist[col])\n",
    "            ug.fit()\n",
    "            specs.append(ug)\n",
    "        dcc = DCCGARCH()\n",
    "        dcc.spec(ugarch_objs=specs, returns=hist)\n",
    "        dcc.fit()\n",
    "        dcc.forecast(n_ahead=1)\n",
    "        pred_corr = dcc.fc_cor[:, :, 0]\n",
    "\n",
    "        # 2) stacking\n",
    "        rc = rolling_corr_matrix.loc[:today]\n",
    "        stacked = np.vstack([\n",
    "            np.vstack([vectorize_corr(rc.loc[d].values) for d in hist.index]),\n",
    "            vectorize_corr(pred_corr)\n",
    "        ])\n",
    "\n",
    "        # 3) KMeans + silhouette\n",
    "        best_score, best_k, best_labels = -1, None, None\n",
    "        for k in range_n_clusters:\n",
    "            km = KMeans(n_clusters=k)\n",
    "            labels = km.fit_predict(stacked)\n",
    "            s = silhouette_score(stacked, labels)\n",
    "            if s > best_score:\n",
    "                best_score, best_k, best_labels = s, k, labels\n",
    "\n",
    "        # 4) Black–Litterman\n",
    "        idxs = hist.index\n",
    "        labels_series = pd.Series(\n",
    "            best_labels,\n",
    "            index=list(idxs) + [rtn.loc[today:].index[1]]\n",
    "        )\n",
    "        pred_state = labels_series.iloc[-1]\n",
    "        regs = labels_series[labels_series == pred_state].index\n",
    "        mu_bl, w_bl = black_litterman(\n",
    "            sigma=rolling_cov_matrix.loc[today].values,\n",
    "            w_mkt=np.array([0.05,0.05,0.05,0.05,0.6,0.2]),\n",
    "            p=np.eye(6),\n",
    "            q=holding_rtn.loc[regs].mean().values,\n",
    "            omega=holding_cov.loc[regs].groupby(level=1).mean().values,\n",
    "            tau=0.15,\n",
    "        )\n",
    "        w_bl = np.clip(w_bl, 0, None)\n",
    "        w_bl /= w_bl.sum()\n",
    "\n",
    "        # 5) Saving\n",
    "        json.dump({str(today): pred_corr.tolist()},\n",
    "                  open(f\"{out_dir}/predicted_corr_matrix{i}.json\",\"w\"), indent=4)\n",
    "        json.dump({str(today): {\"mu_bl\": mu_bl.tolist(), \"w_bl\": w_bl.tolist()}},\n",
    "                  open(f\"{out_dir}/original_black_litterman{i}.json\",\"w\"), indent=4)\n",
    "        json.dump({str(today): w_bl.tolist()},\n",
    "                  open(f\"{out_dir}/result_weights{i}.json\",\"w\"), indent=4)\n",
    "        json.dump({str(today): best_k},\n",
    "                  open(f\"{out_dir}/best_k{i}.json\",\"w\"), indent=4)\n",
    "        # ── 여기서 수정: labels_series 인덱스를 문자열로 변환 ──\n",
    "        tmp = labels_series.copy()\n",
    "        tmp.index = tmp.index.astype(str)\n",
    "        json.dump(\n",
    "            [{str(today): tmp.to_dict()}],\n",
    "            open(f\"{out_dir}/estimated_regime{i}.json\", \"w\"),\n",
    "            ensure_ascii=False, indent=4\n",
    "        )\n",
    "\n",
    "    except Exception as e:\n",
    "        err = traceback.format_exc()\n",
    "        with open(os.path.join(out_dir, f\"error_{i}.log\"), \"w\") as lf:\n",
    "            lf.write(f\"Error at {today} (idx={i}):\\n{err}\\n\")\n",
    "    return"
   ]
  },
  {
   "cell_type": "code",
   "execution_count": null,
   "id": "5d922cc4",
   "metadata": {},
   "outputs": [],
   "source": [
    "os.makedirs(out_dir, exist_ok=True)\n",
    "n_procs = max(1, os.cpu_count() - 1)\n",
    "\n",
    "Parallel(n_jobs=n_procs, backend=\"loky\")(\n",
    "    delayed(process_date)(day, idx)\n",
    "    for idx, day in enumerate(days_lst)\n",
    ")"
   ]
  }
 ],
 "metadata": {
  "kernelspec": {
   "display_name": "Statistical",
   "language": "python",
   "name": "python3"
  },
  "language_info": {
   "codemirror_mode": {
    "name": "ipython",
    "version": 3
   },
   "file_extension": ".py",
   "mimetype": "text/x-python",
   "name": "python",
   "nbconvert_exporter": "python",
   "pygments_lexer": "ipython3",
   "version": "3.9.21"
  }
 },
 "nbformat": 4,
 "nbformat_minor": 5
}
