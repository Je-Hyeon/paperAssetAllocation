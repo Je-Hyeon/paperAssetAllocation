{
 "cells": [
  {
   "cell_type": "markdown",
   "id": "4853d6fa",
   "metadata": {},
   "source": [
    "기존에 만들어둔 predicted corr matrix 기반으로 Fixed K 구현해보기"
   ]
  },
  {
   "cell_type": "code",
   "execution_count": 7,
   "id": "d9c68b91",
   "metadata": {},
   "outputs": [],
   "source": [
    "import traceback\n",
    "from joblib import Parallel, delayed\n",
    "import json\n",
    "import os\n",
    "import numpy as np\n",
    "import pandas as pd\n",
    "from tqdm import tqdm\n",
    "from sklearn.cluster import KMeans\n",
    "from sklearn.metrics import silhouette_score\n",
    "\n",
    "from mvgarch.ugarch import UGARCH\n",
    "from mvgarch.mgarch import DCCGARCH\n",
    "\n",
    "from tools.portfolio import black_litterman, vectorize_corr"
   ]
  },
  {
   "cell_type": "code",
   "execution_count": 8,
   "id": "0daad4e2",
   "metadata": {},
   "outputs": [],
   "source": [
    "k = 3"
   ]
  },
  {
   "cell_type": "code",
   "execution_count": 9,
   "id": "a0c126f7",
   "metadata": {},
   "outputs": [],
   "source": [
    "df = pd.read_pickle(\"data/asset_cc2.pkl\")\n",
    "\n",
    "window_size = 60\n",
    "rtn = np.log(df).diff().dropna() * 100\n",
    "holding_rtn = (np.log(df) - np.log(df).shift(20)).shift(-20).dropna()[\"1997-05\":] * 100\n",
    "holding_cov = rtn.rolling(window=window_size).cov().shift(-120).dropna()\n",
    "rolling_corr_matrix = rtn.rolling(window=window_size).corr().dropna()[\"1997-05\":]\n",
    "rolling_cov_matrix = rtn.rolling(window=window_size).cov().dropna()[\"1997-05\":]\n",
    "\n",
    "days_lst = rtn.loc[\"2007-01-03\":\"2025-04-16\"].index[40:]\n",
    "range_n_clusters = list(range(2, 10))\n",
    "\n",
    "rtn = rtn[\"1997-05\":]"
   ]
  },
  {
   "cell_type": "code",
   "execution_count": 10,
   "id": "87eb7f0c",
   "metadata": {},
   "outputs": [],
   "source": [
    "listdir = os.listdir(\"results/res2\")\n",
    "predicted_corr_lst = []\n",
    "for file in listdir:\n",
    "    if \"predicted_corr_matrix\" in file:\n",
    "        with open(f\"results/res2/{file}\", 'r', encoding='utf-8') as f:\n",
    "            predicted_corr_lst.append(json.load(f))\n",
    "            \n",
    "predicted_corr_dict = {pd.to_datetime(k): v for d in predicted_corr_lst for k, v in d.items()}"
   ]
  },
  {
   "cell_type": "code",
   "execution_count": 11,
   "id": "5c6108b4",
   "metadata": {},
   "outputs": [],
   "source": [
    "rc_vector_dict = {\n",
    "    d: vectorize_corr(rolling_corr_matrix.loc[d].values)\n",
    "    for d in rtn.index\n",
    "}"
   ]
  },
  {
   "cell_type": "code",
   "execution_count": 12,
   "id": "6678cd70",
   "metadata": {},
   "outputs": [
    {
     "name": "stderr",
     "output_type": "stream",
     "text": [
      " 20%|██        | 923/4528 [00:24<01:54, 31.57it/s]"
     ]
    },
    {
     "name": "stdout",
     "output_type": "stream",
     "text": [
      "error in 2010-10-29 00:00:00\n"
     ]
    },
    {
     "name": "stderr",
     "output_type": "stream",
     "text": [
      " 22%|██▏       | 1010/4528 [00:27<01:46, 32.98it/s]"
     ]
    },
    {
     "name": "stdout",
     "output_type": "stream",
     "text": [
      "error in 2011-03-10 00:00:00\n"
     ]
    },
    {
     "name": "stderr",
     "output_type": "stream",
     "text": [
      " 27%|██▋       | 1204/4528 [00:32<01:18, 42.21it/s]"
     ]
    },
    {
     "name": "stdout",
     "output_type": "stream",
     "text": [
      "error in 2011-12-13 00:00:00\n"
     ]
    },
    {
     "name": "stderr",
     "output_type": "stream",
     "text": [
      " 61%|██████    | 2753/4528 [01:28<01:07, 26.29it/s]"
     ]
    },
    {
     "name": "stdout",
     "output_type": "stream",
     "text": [
      "error in 2018-03-02 00:00:00\n"
     ]
    },
    {
     "name": "stderr",
     "output_type": "stream",
     "text": [
      " 68%|██████▊   | 3062/4528 [01:41<01:08, 21.30it/s]"
     ]
    },
    {
     "name": "stdout",
     "output_type": "stream",
     "text": [
      "error in 2019-05-30 00:00:00\n"
     ]
    },
    {
     "name": "stderr",
     "output_type": "stream",
     "text": [
      "100%|██████████| 4528/4528 [02:57<00:00, 25.56it/s]\n"
     ]
    },
    {
     "name": "stdout",
     "output_type": "stream",
     "text": [
      "error in 2025-04-16 00:00:00\n"
     ]
    },
    {
     "name": "stderr",
     "output_type": "stream",
     "text": [
      " 20%|██        | 921/4528 [00:25<01:35, 37.72it/s]"
     ]
    },
    {
     "name": "stdout",
     "output_type": "stream",
     "text": [
      "error in 2010-10-29 00:00:00\n"
     ]
    },
    {
     "name": "stderr",
     "output_type": "stream",
     "text": [
      " 22%|██▏       | 1011/4528 [00:28<01:49, 32.04it/s]"
     ]
    },
    {
     "name": "stdout",
     "output_type": "stream",
     "text": [
      "error in 2011-03-10 00:00:00\n"
     ]
    },
    {
     "name": "stderr",
     "output_type": "stream",
     "text": [
      " 27%|██▋       | 1204/4528 [00:34<01:37, 34.02it/s]"
     ]
    },
    {
     "name": "stdout",
     "output_type": "stream",
     "text": [
      "error in 2011-12-13 00:00:00\n"
     ]
    },
    {
     "name": "stderr",
     "output_type": "stream",
     "text": [
      " 61%|██████    | 2755/4528 [01:31<01:07, 26.33it/s]"
     ]
    },
    {
     "name": "stdout",
     "output_type": "stream",
     "text": [
      "error in 2018-03-02 00:00:00\n"
     ]
    },
    {
     "name": "stderr",
     "output_type": "stream",
     "text": [
      " 68%|██████▊   | 3063/4528 [01:45<00:57, 25.28it/s]"
     ]
    },
    {
     "name": "stdout",
     "output_type": "stream",
     "text": [
      "error in 2019-05-30 00:00:00\n"
     ]
    },
    {
     "name": "stderr",
     "output_type": "stream",
     "text": [
      "100%|██████████| 4528/4528 [02:58<00:00, 25.38it/s]\n"
     ]
    },
    {
     "name": "stdout",
     "output_type": "stream",
     "text": [
      "error in 2025-04-16 00:00:00\n"
     ]
    },
    {
     "name": "stderr",
     "output_type": "stream",
     "text": [
      " 20%|██        | 925/4528 [00:25<01:38, 36.50it/s]"
     ]
    },
    {
     "name": "stdout",
     "output_type": "stream",
     "text": [
      "error in 2010-10-29 00:00:00\n"
     ]
    },
    {
     "name": "stderr",
     "output_type": "stream",
     "text": [
      " 22%|██▏       | 1010/4528 [00:27<01:44, 33.75it/s]"
     ]
    },
    {
     "name": "stdout",
     "output_type": "stream",
     "text": [
      "error in 2011-03-10 00:00:00\n"
     ]
    },
    {
     "name": "stderr",
     "output_type": "stream",
     "text": [
      " 27%|██▋       | 1202/4528 [00:33<01:49, 30.37it/s]"
     ]
    },
    {
     "name": "stdout",
     "output_type": "stream",
     "text": [
      "error in 2011-12-13 00:00:00\n"
     ]
    },
    {
     "name": "stderr",
     "output_type": "stream",
     "text": [
      " 61%|██████    | 2753/4528 [01:32<01:02, 28.63it/s]"
     ]
    },
    {
     "name": "stdout",
     "output_type": "stream",
     "text": [
      "error in 2018-03-02 00:00:00\n"
     ]
    },
    {
     "name": "stderr",
     "output_type": "stream",
     "text": [
      " 68%|██████▊   | 3061/4528 [01:46<01:03, 23.03it/s]"
     ]
    },
    {
     "name": "stdout",
     "output_type": "stream",
     "text": [
      "error in 2019-05-30 00:00:00\n"
     ]
    },
    {
     "name": "stderr",
     "output_type": "stream",
     "text": [
      "100%|██████████| 4528/4528 [03:00<00:00, 25.05it/s]\n"
     ]
    },
    {
     "name": "stdout",
     "output_type": "stream",
     "text": [
      "error in 2025-04-16 00:00:00\n"
     ]
    },
    {
     "name": "stderr",
     "output_type": "stream",
     "text": [
      " 20%|██        | 925/4528 [00:25<01:32, 38.92it/s]"
     ]
    },
    {
     "name": "stdout",
     "output_type": "stream",
     "text": [
      "error in 2010-10-29 00:00:00\n"
     ]
    },
    {
     "name": "stderr",
     "output_type": "stream",
     "text": [
      " 22%|██▏       | 1010/4528 [00:27<01:39, 35.39it/s]"
     ]
    },
    {
     "name": "stdout",
     "output_type": "stream",
     "text": [
      "error in 2011-03-10 00:00:00\n"
     ]
    },
    {
     "name": "stderr",
     "output_type": "stream",
     "text": [
      " 27%|██▋       | 1203/4528 [00:33<01:36, 34.36it/s]"
     ]
    },
    {
     "name": "stdout",
     "output_type": "stream",
     "text": [
      "error in 2011-12-13 00:00:00\n"
     ]
    },
    {
     "name": "stderr",
     "output_type": "stream",
     "text": [
      " 61%|██████    | 2753/4528 [01:34<01:07, 26.21it/s]"
     ]
    },
    {
     "name": "stdout",
     "output_type": "stream",
     "text": [
      "error in 2018-03-02 00:00:00\n"
     ]
    },
    {
     "name": "stderr",
     "output_type": "stream",
     "text": [
      " 68%|██████▊   | 3061/4528 [01:47<00:56, 26.15it/s]"
     ]
    },
    {
     "name": "stdout",
     "output_type": "stream",
     "text": [
      "error in 2019-05-30 00:00:00\n"
     ]
    },
    {
     "name": "stderr",
     "output_type": "stream",
     "text": [
      "100%|██████████| 4528/4528 [03:01<00:00, 24.95it/s]\n"
     ]
    },
    {
     "name": "stdout",
     "output_type": "stream",
     "text": [
      "error in 2025-04-16 00:00:00\n"
     ]
    },
    {
     "name": "stderr",
     "output_type": "stream",
     "text": [
      " 20%|██        | 919/4528 [00:26<02:05, 28.82it/s]"
     ]
    },
    {
     "name": "stdout",
     "output_type": "stream",
     "text": [
      "error in 2010-10-29 00:00:00\n"
     ]
    },
    {
     "name": "stderr",
     "output_type": "stream",
     "text": [
      " 22%|██▏       | 1012/4528 [00:29<01:52, 31.33it/s]"
     ]
    },
    {
     "name": "stdout",
     "output_type": "stream",
     "text": [
      "error in 2011-03-10 00:00:00\n"
     ]
    },
    {
     "name": "stderr",
     "output_type": "stream",
     "text": [
      " 27%|██▋       | 1204/4528 [00:36<01:39, 33.57it/s]"
     ]
    },
    {
     "name": "stdout",
     "output_type": "stream",
     "text": [
      "error in 2011-12-13 00:00:00\n"
     ]
    },
    {
     "name": "stderr",
     "output_type": "stream",
     "text": [
      " 61%|██████    | 2753/4528 [01:35<01:05, 26.96it/s]"
     ]
    },
    {
     "name": "stdout",
     "output_type": "stream",
     "text": [
      "error in 2018-03-02 00:00:00\n"
     ]
    },
    {
     "name": "stderr",
     "output_type": "stream",
     "text": [
      " 68%|██████▊   | 3065/4528 [01:48<01:00, 24.07it/s]"
     ]
    },
    {
     "name": "stdout",
     "output_type": "stream",
     "text": [
      "error in 2019-05-30 00:00:00\n"
     ]
    },
    {
     "name": "stderr",
     "output_type": "stream",
     "text": [
      "100%|██████████| 4528/4528 [03:03<00:00, 24.63it/s]\n"
     ]
    },
    {
     "name": "stdout",
     "output_type": "stream",
     "text": [
      "error in 2025-04-16 00:00:00\n"
     ]
    },
    {
     "name": "stderr",
     "output_type": "stream",
     "text": [
      " 20%|██        | 925/4528 [00:26<01:36, 37.22it/s]"
     ]
    },
    {
     "name": "stdout",
     "output_type": "stream",
     "text": [
      "error in 2010-10-29 00:00:00\n"
     ]
    },
    {
     "name": "stderr",
     "output_type": "stream",
     "text": [
      " 22%|██▏       | 1013/4528 [00:29<01:48, 32.40it/s]"
     ]
    },
    {
     "name": "stdout",
     "output_type": "stream",
     "text": [
      "error in 2011-03-10 00:00:00\n"
     ]
    },
    {
     "name": "stderr",
     "output_type": "stream",
     "text": [
      " 27%|██▋       | 1201/4528 [00:35<01:34, 35.30it/s]"
     ]
    },
    {
     "name": "stdout",
     "output_type": "stream",
     "text": [
      "error in 2011-12-13 00:00:00\n"
     ]
    },
    {
     "name": "stderr",
     "output_type": "stream",
     "text": [
      " 61%|██████    | 2753/4528 [01:33<01:09, 25.61it/s]"
     ]
    },
    {
     "name": "stdout",
     "output_type": "stream",
     "text": [
      "error in 2018-03-02 00:00:00\n"
     ]
    },
    {
     "name": "stderr",
     "output_type": "stream",
     "text": [
      " 68%|██████▊   | 3064/4528 [01:47<01:00, 24.32it/s]"
     ]
    },
    {
     "name": "stdout",
     "output_type": "stream",
     "text": [
      "error in 2019-05-30 00:00:00\n"
     ]
    },
    {
     "name": "stderr",
     "output_type": "stream",
     "text": [
      "100%|██████████| 4528/4528 [03:01<00:00, 24.88it/s]\n"
     ]
    },
    {
     "name": "stdout",
     "output_type": "stream",
     "text": [
      "error in 2025-04-16 00:00:00\n"
     ]
    },
    {
     "name": "stderr",
     "output_type": "stream",
     "text": [
      " 20%|██        | 919/4528 [00:27<01:39, 36.09it/s]"
     ]
    },
    {
     "name": "stdout",
     "output_type": "stream",
     "text": [
      "error in 2010-10-29 00:00:00\n"
     ]
    },
    {
     "name": "stderr",
     "output_type": "stream",
     "text": [
      " 22%|██▏       | 1011/4528 [00:30<01:46, 33.09it/s]"
     ]
    },
    {
     "name": "stdout",
     "output_type": "stream",
     "text": [
      "error in 2011-03-10 00:00:00\n"
     ]
    },
    {
     "name": "stderr",
     "output_type": "stream",
     "text": [
      " 27%|██▋       | 1201/4528 [00:37<01:50, 30.01it/s]"
     ]
    },
    {
     "name": "stdout",
     "output_type": "stream",
     "text": [
      "error in 2011-12-13 00:00:00\n"
     ]
    },
    {
     "name": "stderr",
     "output_type": "stream",
     "text": [
      " 61%|██████    | 2752/4528 [01:36<01:02, 28.39it/s]"
     ]
    },
    {
     "name": "stdout",
     "output_type": "stream",
     "text": [
      "error in 2018-03-02 00:00:00\n"
     ]
    },
    {
     "name": "stderr",
     "output_type": "stream",
     "text": [
      " 68%|██████▊   | 3063/4528 [01:49<00:57, 25.31it/s]"
     ]
    },
    {
     "name": "stdout",
     "output_type": "stream",
     "text": [
      "error in 2019-05-30 00:00:00\n"
     ]
    },
    {
     "name": "stderr",
     "output_type": "stream",
     "text": [
      "100%|██████████| 4528/4528 [03:05<00:00, 24.41it/s]\n"
     ]
    },
    {
     "name": "stdout",
     "output_type": "stream",
     "text": [
      "error in 2025-04-16 00:00:00\n"
     ]
    }
   ],
   "source": [
    "for tau in [0.01, 0.15, 0.3, 0.45, 0.60, 0.75, 1]:\n",
    "    result_weight_dict = {}\n",
    "    estimated_regime_lst = []\n",
    "    km = KMeans(n_clusters=k) # Fixed K\n",
    "    \n",
    "    i=0\n",
    "    for today in tqdm(days_lst):\n",
    "        try:\n",
    "            hist = rtn.loc[:today]\n",
    "            rc = rolling_corr_matrix.loc[:today]\n",
    "            stacked = np.vstack(\n",
    "                [\n",
    "                    np.vstack([rc_vector_dict[d] for d in hist.index]),\n",
    "                    vectorize_corr(np.array(predicted_corr_dict[today]))\n",
    "                ])\n",
    "\n",
    "            # 3) Fixed KMeans\n",
    "            labels = km.fit_predict(stacked)\n",
    "\n",
    "            # 4) Black–Litterman\n",
    "            idxs = hist.index\n",
    "            labels_series = pd.Series(\n",
    "                labels,\n",
    "                index=list(idxs) + [rtn.loc[today:].index[1]]\n",
    "            )\n",
    "            pred_state = labels_series.iloc[-1]\n",
    "            regs = labels_series[labels_series == pred_state].index\n",
    "            mu_bl, w_bl = black_litterman(\n",
    "                sigma=rolling_cov_matrix.loc[today].values,\n",
    "                w_mkt=np.array([0.05,0.05,0.05,0.05,0.6,0.2]),\n",
    "                p=np.eye(6),\n",
    "                q=holding_rtn.loc[regs].mean().values,\n",
    "                omega=holding_cov.loc[regs].groupby(level=1).mean().values,\n",
    "                tau=tau,\n",
    "            )\n",
    "            w_bl = np.clip(w_bl, 0, None)\n",
    "            w_bl /= w_bl.sum()\n",
    "\n",
    "            # Save\n",
    "            result_weight_dict[today] = w_bl\n",
    "            estimated_regime_lst.append(labels_series)\n",
    "\n",
    "        except:\n",
    "            print(f\"error in {today}\")\n",
    "            continue\n",
    "        i+=1    \n",
    "    \n",
    "    serializable_result_w  = {str(k): v.tolist() for k, v in result_weight_dict.items()}\n",
    "    serializable_estimated_regime_lst  = [{str(key):value for key, value in inner_dict.items()} for inner_dict in estimated_regime_lst]\n",
    "    with open(f\"results/tau/result_weights_{tau}.json\", \"w\", encoding=\"utf-8\") as f:\n",
    "        json.dump(serializable_result_w, f, ensure_ascii=False, indent=4)\n",
    "    with open(f\"results/tau/estimated_regime_{tau}.json\", \"w\", encoding=\"utf-8\") as f:\n",
    "        json.dump(serializable_estimated_regime_lst, f, ensure_ascii=False, indent=4)"
   ]
  }
 ],
 "metadata": {
  "kernelspec": {
   "display_name": "Statistical",
   "language": "python",
   "name": "python3"
  },
  "language_info": {
   "codemirror_mode": {
    "name": "ipython",
    "version": 3
   },
   "file_extension": ".py",
   "mimetype": "text/x-python",
   "name": "python",
   "nbconvert_exporter": "python",
   "pygments_lexer": "ipython3",
   "version": "3.9.21"
  }
 },
 "nbformat": 4,
 "nbformat_minor": 5
}
